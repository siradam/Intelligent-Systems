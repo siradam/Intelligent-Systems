{
 "cells": [
  {
   "cell_type": "code",
   "execution_count": 1,
   "metadata": {},
   "outputs": [],
   "source": [
    "import pandas as pd\n",
    "import matplotlib.pyplot as plt\n",
    "import numpy as np\n",
    "from glob import glob\n",
    "from datetime import datetime as dt"
   ]
  },
  {
   "cell_type": "code",
   "execution_count": 55,
   "metadata": {},
   "outputs": [
    {
     "name": "stdout",
     "output_type": "stream",
     "text": [
      "min water level:  141.0\n",
      "max water level:  358.0\n"
     ]
    }
   ],
   "source": [
    "df_main = pd.read_csv('station_main.csv')\n",
    "df_main = df_main.dropna()\n",
    "df_main = df_main.reset_index(drop=True)\n",
    "df_main['level_cm'].value_counts()\n",
    "\n",
    "print(\"min water level: \", min(df_main['level_cm']))\n",
    "print(\"max water level: \", max(df_main['level_cm']))"
   ]
  },
  {
   "cell_type": "code",
   "execution_count": 64,
   "metadata": {},
   "outputs": [],
   "source": [
    "#define low, medium and high for water level\n",
    "#from 141 to 214 is low\n",
    "#from 215 to 288 is medium\n",
    "#from 289 to 358 is high\n",
    "#binning level_cm aka water level to 3 cats. low, medium, high\n",
    "bins = [141,214,288,358]\n",
    "labels = [\"low\",\"medium\",\"high\"]\n",
    "df_main['binned level'] = pd.cut(df_main['level_cm'],bins)\n",
    "# df['binned'] = pd.cut(df['percentage'], bins=bins, labels=labels)\n",
    "df_main['binned level'] = pd.cut(df_main['level_cm'], bins=bins, labels = labels)\n",
    "df_main['binned level'].value_counts()\n",
    "\n",
    "#applying the same for the flow\n",
    "#from 1 to 14 is low\n",
    "#from 14 to 27 is medium\n",
    "#from 27 to 39 is high\n",
    "bins_2 = [1, 14, 27, 39]\n",
    "df_main['binned flow'] = pd.cut(df_main['flow_m2_s'],bins)\n",
    "# df['binned'] = pd.cut(df['percentage'], bins=bins, labels=labels)\n",
    "df_main['binned flow'] = pd.cut(df_main['flow_m2_s'], bins=bins_2, labels = labels)"
   ]
  },
  {
   "cell_type": "code",
   "execution_count": 65,
   "metadata": {},
   "outputs": [
    {
     "data": {
      "text/html": [
       "<div>\n",
       "<style scoped>\n",
       "    .dataframe tbody tr th:only-of-type {\n",
       "        vertical-align: middle;\n",
       "    }\n",
       "\n",
       "    .dataframe tbody tr th {\n",
       "        vertical-align: top;\n",
       "    }\n",
       "\n",
       "    .dataframe thead th {\n",
       "        text-align: right;\n",
       "    }\n",
       "</style>\n",
       "<table border=\"1\" class=\"dataframe\">\n",
       "  <thead>\n",
       "    <tr style=\"text-align: right;\">\n",
       "      <th></th>\n",
       "      <th>time</th>\n",
       "      <th>level_cm</th>\n",
       "      <th>flow_m2_s</th>\n",
       "      <th>binned level</th>\n",
       "      <th>binned flow</th>\n",
       "    </tr>\n",
       "  </thead>\n",
       "  <tbody>\n",
       "    <tr>\n",
       "      <th>0</th>\n",
       "      <td>2014-01-01 01:00:00</td>\n",
       "      <td>182.0</td>\n",
       "      <td>7.19</td>\n",
       "      <td>low</td>\n",
       "      <td>low</td>\n",
       "    </tr>\n",
       "    <tr>\n",
       "      <th>1</th>\n",
       "      <td>2014-01-01 02:00:00</td>\n",
       "      <td>182.0</td>\n",
       "      <td>7.19</td>\n",
       "      <td>low</td>\n",
       "      <td>low</td>\n",
       "    </tr>\n",
       "    <tr>\n",
       "      <th>2</th>\n",
       "      <td>2014-01-01 03:00:00</td>\n",
       "      <td>182.0</td>\n",
       "      <td>7.19</td>\n",
       "      <td>low</td>\n",
       "      <td>low</td>\n",
       "    </tr>\n",
       "    <tr>\n",
       "      <th>3</th>\n",
       "      <td>2014-01-01 04:00:00</td>\n",
       "      <td>182.0</td>\n",
       "      <td>7.19</td>\n",
       "      <td>low</td>\n",
       "      <td>low</td>\n",
       "    </tr>\n",
       "    <tr>\n",
       "      <th>4</th>\n",
       "      <td>2014-01-01 05:00:00</td>\n",
       "      <td>182.0</td>\n",
       "      <td>7.19</td>\n",
       "      <td>low</td>\n",
       "      <td>low</td>\n",
       "    </tr>\n",
       "    <tr>\n",
       "      <th>...</th>\n",
       "      <td>...</td>\n",
       "      <td>...</td>\n",
       "      <td>...</td>\n",
       "      <td>...</td>\n",
       "      <td>...</td>\n",
       "    </tr>\n",
       "    <tr>\n",
       "      <th>34361</th>\n",
       "      <td>2017-12-31 19:00:00</td>\n",
       "      <td>255.0</td>\n",
       "      <td>15.90</td>\n",
       "      <td>medium</td>\n",
       "      <td>medium</td>\n",
       "    </tr>\n",
       "    <tr>\n",
       "      <th>34362</th>\n",
       "      <td>2017-12-31 20:00:00</td>\n",
       "      <td>259.0</td>\n",
       "      <td>16.40</td>\n",
       "      <td>medium</td>\n",
       "      <td>medium</td>\n",
       "    </tr>\n",
       "    <tr>\n",
       "      <th>34363</th>\n",
       "      <td>2017-12-31 21:00:00</td>\n",
       "      <td>263.0</td>\n",
       "      <td>16.90</td>\n",
       "      <td>medium</td>\n",
       "      <td>medium</td>\n",
       "    </tr>\n",
       "    <tr>\n",
       "      <th>34364</th>\n",
       "      <td>2017-12-31 22:00:00</td>\n",
       "      <td>268.0</td>\n",
       "      <td>17.50</td>\n",
       "      <td>medium</td>\n",
       "      <td>medium</td>\n",
       "    </tr>\n",
       "    <tr>\n",
       "      <th>34365</th>\n",
       "      <td>2017-12-31 23:00:00</td>\n",
       "      <td>272.0</td>\n",
       "      <td>18.00</td>\n",
       "      <td>medium</td>\n",
       "      <td>medium</td>\n",
       "    </tr>\n",
       "  </tbody>\n",
       "</table>\n",
       "<p>34366 rows × 5 columns</p>\n",
       "</div>"
      ],
      "text/plain": [
       "                      time  level_cm  flow_m2_s binned level binned flow\n",
       "0      2014-01-01 01:00:00     182.0       7.19          low         low\n",
       "1      2014-01-01 02:00:00     182.0       7.19          low         low\n",
       "2      2014-01-01 03:00:00     182.0       7.19          low         low\n",
       "3      2014-01-01 04:00:00     182.0       7.19          low         low\n",
       "4      2014-01-01 05:00:00     182.0       7.19          low         low\n",
       "...                    ...       ...        ...          ...         ...\n",
       "34361  2017-12-31 19:00:00     255.0      15.90       medium      medium\n",
       "34362  2017-12-31 20:00:00     259.0      16.40       medium      medium\n",
       "34363  2017-12-31 21:00:00     263.0      16.90       medium      medium\n",
       "34364  2017-12-31 22:00:00     268.0      17.50       medium      medium\n",
       "34365  2017-12-31 23:00:00     272.0      18.00       medium      medium\n",
       "\n",
       "[34366 rows x 5 columns]"
      ]
     },
     "execution_count": 65,
     "metadata": {},
     "output_type": "execute_result"
    }
   ],
   "source": [
    "df_main"
   ]
  },
  {
   "cell_type": "code",
   "execution_count": 63,
   "metadata": {},
   "outputs": [
    {
     "name": "stdout",
     "output_type": "stream",
     "text": [
      "value statictics:  2.33     162\n",
      "2.42     152\n",
      "3.80     140\n",
      "3.67     134\n",
      "2.73     131\n",
      "        ... \n",
      "24.40      1\n",
      "23.90      1\n",
      "30.80      1\n",
      "31.50      1\n",
      "27.60      1\n",
      "Name: flow_m2_s, Length: 1077, dtype: int64\n",
      "min flow:  1.69\n",
      "max flow:  39.0\n"
     ]
    }
   ],
   "source": [
    "print(\"value statictics: \", df_main['flow_m2_s'].value_counts())\n",
    "print(\"min flow: \", min(df_main['flow_m2_s']))\n",
    "print(\"max flow: \", max(df_main['flow_m2_s']))"
   ]
  },
  {
   "cell_type": "code",
   "execution_count": 75,
   "metadata": {},
   "outputs": [],
   "source": [
    "#now calculate the IZ and IR of water level in classes of water flow \n",
    "#number of water level (low) if the flow is low:\n",
    "count_1 = 0\n",
    "count_2 = 0\n",
    "count_3 = 0\n",
    "count_4 = 0\n",
    "count_5 = 0\n",
    "count_6 = 0\n",
    "count_7 = 0\n",
    "count_8 = 0\n",
    "count_9 = 0\n",
    "#count for:\n",
    "# water level       water flow\n",
    "#               low     medium    high\n",
    "#      low    count_1  count_2  count_3\n",
    "#     medium  count_4  count_5  count_6\n",
    "#      high   count_7  count_8  count_9\n",
    "for i in range(0,len(df_main)):\n",
    "    if df_main['binned level'][i] == \"low\": \n",
    "        if df_main['binned flow'][i] == \"low\": count_1 += 1 \n",
    "        if df_main['binned flow'][i] == \"medium\": count_2 += 1\n",
    "        if df_main['binned flow'][i] == \"high\": count_3 += 1\n",
    "    if df_main['binned level'][i] == \"medium\":\n",
    "        if df_main['binned flow'][i] == \"low\": count_4 += 1 \n",
    "        if df_main['binned flow'][i] == \"medium\": count_5 += 1\n",
    "        if df_main['binned flow'][i] == \"high\": count_6 += 1\n",
    "    if df_main['binned level'][i] == \"high\":\n",
    "        if df_main['binned flow'][i] == \"low\": count_7 += 1 \n",
    "        if df_main['binned flow'][i] == \"medium\": count_8 += 1\n",
    "        if df_main['binned flow'][i] == \"high\": count_9 += 1        \n"
   ]
  },
  {
   "cell_type": "code",
   "execution_count": 76,
   "metadata": {},
   "outputs": [
    {
     "name": "stdout",
     "output_type": "stream",
     "text": [
      "29754 , 0 , 0\n",
      "2078 , 1449 , 0\n",
      "0 , 723 , 295\n"
     ]
    }
   ],
   "source": [
    "print(count_1,\",\",count_2,\",\",count_3)\n",
    "print(count_4,\",\",count_5,\",\",count_6)\n",
    "print(count_7,\",\",count_8,\",\",count_9)"
   ]
  },
  {
   "cell_type": "code",
   "execution_count": 77,
   "metadata": {},
   "outputs": [
    {
     "data": {
      "text/plain": [
       "0.05074783215969272"
      ]
     },
     "execution_count": 77,
     "metadata": {},
     "output_type": "execute_result"
    }
   ],
   "source": [
    "#Inconsistency rate\n",
    "IR = ((29754 - 29754) + (2078+1449-2078) + (723 + 295 - 723))/ len(df_main)\n",
    "IR"
   ]
  },
  {
   "cell_type": "code",
   "execution_count": null,
   "metadata": {},
   "outputs": [],
   "source": []
  }
 ],
 "metadata": {
  "kernelspec": {
   "display_name": "Python 3",
   "language": "python",
   "name": "python3"
  },
  "language_info": {
   "codemirror_mode": {
    "name": "ipython",
    "version": 3
   },
   "file_extension": ".py",
   "mimetype": "text/x-python",
   "name": "python",
   "nbconvert_exporter": "python",
   "pygments_lexer": "ipython3",
   "version": "3.8.5"
  }
 },
 "nbformat": 4,
 "nbformat_minor": 4
}
